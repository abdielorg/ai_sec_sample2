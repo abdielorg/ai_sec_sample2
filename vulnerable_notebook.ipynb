{
 "cells": [
  {
   "cell_type": "markdown",
   "id": "dc8bf7f9",
   "metadata": {},
   "source": [
    "# 🚨 Vulnerable ML Notebook\n",
    "This notebook contains intentional security flaws for educational/demo purposes."
   ]
  },
  {
   "cell_type": "code",
   "execution_count": null,
   "id": "9ade668a",
   "metadata": {},
   "outputs": [],
   "source": [
    "import pickle\n",
    "import pandas as pd\n",
    "from sklearn.datasets import load_iris\n",
    "from sklearn.ensemble import RandomForestClassifier\n",
    "from transformers import pipeline"
   ]
  },
  {
   "cell_type": "markdown",
   "id": "f0acaaff",
   "metadata": {},
   "source": [
    "## 🔑 Hardcoded Secret"
   ]
  },
  {
   "cell_type": "code",
   "execution_count": null,
   "id": "3ed7cb13",
   "metadata": {},
   "outputs": [],
   "source": [
    "API_KEY = \"abc123-insecure-api-key\"\n",
    "print(\"[DEBUG] API_KEY used:\", API_KEY)"
   ]
  },
  {
   "cell_type": "markdown",
   "id": "f0ce5340",
   "metadata": {},
   "source": [
    "## 📊 Train and Save Model"
   ]
  },
  {
   "cell_type": "code",
   "execution_count": null,
   "id": "6775768a",
   "metadata": {},
   "outputs": [],
   "source": [
    "iris = load_iris()\n",
    "X = pd.DataFrame(iris.data, columns=iris.feature_names)\n",
    "y = pd.Series(iris.target)\n",
    "\n",
    "clf = RandomForestClassifier()\n",
    "clf.fit(X, y)\n",
    "\n",
    "with open(\"model.pkl\", \"wb\") as f:\n",
    "    pickle.dump(clf, f)\n",
    "print(\"[INFO] Model trained and saved to model.pkl\")"
   ]
  },
  {
   "cell_type": "markdown",
   "id": "1281dff2",
   "metadata": {},
   "source": [
    "## ☠️ Insecure Pickle Load"
   ]
  },
  {
   "cell_type": "code",
   "execution_count": null,
   "id": "bcc073b7",
   "metadata": {},
   "outputs": [],
   "source": [
    "model_path = input(\"Enter model path to load (e.g., model.pkl): \")\n",
    "with open(model_path, \"rb\") as f:\n",
    "    model = pickle.load(f)  # INSECURE\n",
    "print(\"[INFO] Model loaded successfully\")"
   ]
  },
  {
   "cell_type": "markdown",
   "id": "1a1ea46f",
   "metadata": {},
   "source": [
    "## 🔥 `eval()` on User Input"
   ]
  },
  {
   "cell_type": "code",
   "execution_count": null,
   "id": "2a960eec",
   "metadata": {},
   "outputs": [],
   "source": [
    "model_config = input(\"Enter model config dict (e.g., {'n_estimators': 10}): \")\n",
    "try:\n",
    "    config_dict = eval(model_config)  # INSECURE\n",
    "    print(\"[DEBUG] Loaded config:\", config_dict)\n",
    "except Exception as e:\n",
    "    print(\"[ERROR] eval failed:\", e)"
   ]
  },
  {
   "cell_type": "markdown",
   "id": "751e8ddc",
   "metadata": {},
   "source": [
    "## 🤗 Hugging Face Integration (Unpinned Model)"
   ]
  },
  {
   "cell_type": "code",
   "execution_count": null,
   "id": "b9c491c3",
   "metadata": {},
   "outputs": [],
   "source": [
    "sentiment = pipeline(\"sentiment-analysis\")\n",
    "result = sentiment(\"This notebook contains intentional security issues.\")\n",
    "print(\"[DEBUG] HuggingFace sentiment:\", result)"
   ]
  },
  {
   "cell_type": "markdown",
   "id": "a03c0d9a",
   "metadata": {},
   "source": [
    "## 🧪 Predict with Model"
   ]
  },
  {
   "cell_type": "code",
   "execution_count": null,
   "id": "387b0a6e",
   "metadata": {},
   "outputs": [],
   "source": [
    "sample = [[5.1, 3.5, 1.4, 0.2]]\n",
    "print(\"Prediction:\", model.predict(sample))"
   ]
  }
 ],
 "metadata": {},
 "nbformat": 4,
 "nbformat_minor": 5
}